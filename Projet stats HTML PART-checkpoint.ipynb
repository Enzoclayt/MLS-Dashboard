{
 "cells": [
  {
   "cell_type": "code",
   "execution_count": null,
   "id": "f35e4ca6",
   "metadata": {},
   "outputs": [],
   "source": []
  },
  {
   "cell_type": "code",
   "execution_count": null,
   "id": "d002587f",
   "metadata": {},
   "outputs": [],
   "source": []
  },
  {
   "cell_type": "code",
   "execution_count": null,
   "id": "fa9b5174",
   "metadata": {},
   "outputs": [],
   "source": []
  },
  {
   "cell_type": "code",
   "execution_count": null,
   "id": "97903010",
   "metadata": {},
   "outputs": [],
   "source": []
  },
  {
   "cell_type": "code",
   "execution_count": null,
   "id": "d051b1e9",
   "metadata": {},
   "outputs": [],
   "source": []
  },
  {
   "cell_type": "code",
   "execution_count": null,
   "id": "fdb4c4f7",
   "metadata": {},
   "outputs": [],
   "source": []
  },
  {
   "cell_type": "code",
   "execution_count": null,
   "id": "5e48b775",
   "metadata": {},
   "outputs": [],
   "source": []
  },
  {
   "cell_type": "code",
   "execution_count": 28,
   "id": "07710d32",
   "metadata": {},
   "outputs": [
    {
     "name": "stderr",
     "output_type": "stream",
     "text": [
      "C:\\Users\\ecme2\\AppData\\Local\\Temp\\ipykernel_26328\\2567747649.py:31: SettingWithCopyWarning:\n",
      "\n",
      "\n",
      "A value is trying to be set on a copy of a slice from a DataFrame\n",
      "\n",
      "See the caveats in the documentation: https://pandas.pydata.org/pandas-docs/stable/user_guide/indexing.html#returning-a-view-versus-a-copy\n",
      "\n",
      "C:\\Users\\ecme2\\AppData\\Local\\Temp\\ipykernel_26328\\2567747649.py:33: SettingWithCopyWarning:\n",
      "\n",
      "\n",
      "A value is trying to be set on a copy of a slice from a DataFrame\n",
      "\n",
      "See the caveats in the documentation: https://pandas.pydata.org/pandas-docs/stable/user_guide/indexing.html#returning-a-view-versus-a-copy\n",
      "\n"
     ]
    },
    {
     "data": {
      "text/html": [
       "\n",
       "        <iframe\n",
       "            width=\"100%\"\n",
       "            height=\"650\"\n",
       "            src=\"http://127.0.0.1:8050/\"\n",
       "            frameborder=\"0\"\n",
       "            allowfullscreen\n",
       "            \n",
       "        ></iframe>\n",
       "        "
      ],
      "text/plain": [
       "<IPython.lib.display.IFrame at 0x1c4dacb3910>"
      ]
     },
     "metadata": {},
     "output_type": "display_data"
    },
    {
     "data": {
      "application/vnd.plotly.v1+json": {
       "config": {
        "plotlyServerURL": "https://plot.ly"
       },
       "data": [
        {
         "customdata": [
          [
           "Inter Miami",
           1,
           78,
           4.35,
           21.5
          ],
          [
           "Columbus Crew",
           2,
           72,
           3.59,
           25.68
          ],
          [
           "FC Cincinnati",
           3,
           57,
           2.94,
           25.06
          ],
          [
           "Orlando City",
           4,
           56,
           2.79,
           23.59
          ],
          [
           "Charlotte",
           5,
           45,
           2.18,
           20.44
          ],
          [
           "NYCFC",
           6,
           54,
           2.62,
           23.88
          ],
          [
           "NY Red Bulls",
           7,
           53,
           2.74,
           24.94
          ],
          [
           "CF Montréal",
           8,
           46,
           2.47,
           18.97
          ],
          [
           "Atlanta Utd",
           9,
           45,
           2.24,
           25.32
          ],
          [
           "D.C. United",
           9,
           52,
           2.74,
           24.29
          ],
          [
           "Toronto FC",
           11,
           38,
           2,
           19.97
          ],
          [
           "Philadelphia Union",
           11,
           62,
           2.91,
           26.94
          ],
          [
           "Nashville SC",
           13,
           37,
           2.03,
           19.41
          ],
          [
           "NE Revolution",
           14,
           36,
           1.82,
           21.26
          ],
          [
           "Chicago Fire",
           15,
           40,
           2,
           21.06
          ]
         ],
         "hovertemplate": "<b>%{customdata[0]}</b><br>Rank : %{customdata[1]}<br>Goals Scored : %{customdata[2]}<br>SCA90 : %{customdata[4]}<br>GCA90 : %{customdata[3]}<extra></extra>",
         "marker": {
          "color": "blue"
         },
         "mode": "markers",
         "name": "Conférence Est",
         "type": "scatter",
         "visible": true,
         "x": [
          21.5,
          25.68,
          25.06,
          23.59,
          20.44,
          23.88,
          24.94,
          18.97,
          25.32,
          24.29,
          19.97,
          26.94,
          19.41,
          21.26,
          21.06
         ],
         "y": [
          4.35,
          3.59,
          2.94,
          2.79,
          2.18,
          2.62,
          2.74,
          2.47,
          2.24,
          2.74,
          2,
          2.91,
          2.03,
          1.82,
          2
         ]
        },
        {
         "customdata": [
          [
           "LAFC",
           1,
           62,
           3.29,
           26.79
          ],
          [
           "LA Galaxy",
           1,
           68,
           3.47,
           26
          ],
          [
           "Real Salt Lake",
           3,
           63,
           3.18,
           25.91
          ],
          [
           "Seattle Sounders FC",
           4,
           49,
           2.47,
           24.06
          ],
          [
           "Houston Dynamo",
           5,
           45,
           2.21,
           24.35
          ],
          [
           "Minnesota Utd",
           6,
           55,
           2.68,
           22.03
          ],
          [
           "Colorado Rapids",
           7,
           57,
           2.85,
           22.44
          ],
          [
           "Vancouver W'caps",
           8,
           50,
           2.44,
           22.18
          ],
          [
           "Portland Timbers",
           8,
           64,
           3.24,
           24.91
          ],
          [
           "Austin",
           10,
           39,
           2.15,
           18.09
          ],
          [
           "FC Dallas",
           11,
           51,
           2.65,
           21.44
          ],
          [
           "St. Louis",
           12,
           47,
           2.29,
           24.38
          ],
          [
           "Sporting KC",
           13,
           51,
           2.53,
           23.74
          ],
          [
           "SJ Earthquakes",
           14,
           39,
           1.85,
           21.15
          ]
         ],
         "hovertemplate": "<b>%{customdata[0]}</b><br>Rank : %{customdata[1]}<br>Goals Scored : %{customdata[2]}<br>SCA90 : %{customdata[4]}<br>GCA90 : %{customdata[3]}<extra></extra>",
         "marker": {
          "color": "red"
         },
         "mode": "markers",
         "name": "Conférence Ouest",
         "type": "scatter",
         "visible": false,
         "x": [
          26.79,
          26,
          25.91,
          24.06,
          24.35,
          22.03,
          22.44,
          22.18,
          24.91,
          18.09,
          21.44,
          24.38,
          23.74,
          21.15
         ],
         "y": [
          3.29,
          3.47,
          3.18,
          2.47,
          2.21,
          2.68,
          2.85,
          2.44,
          3.24,
          2.15,
          2.65,
          2.29,
          2.53,
          1.85
         ]
        },
        {
         "customdata": [
          [
           "Inter Miami",
           1,
           78,
           4.35,
           21.5
          ],
          [
           "Columbus Crew",
           2,
           72,
           3.59,
           25.68
          ],
          [
           "FC Cincinnati",
           5,
           57,
           2.94,
           25.06
          ],
          [
           "Orlando City",
           9,
           56,
           2.79,
           23.59
          ],
          [
           "Charlotte",
           11,
           45,
           2.18,
           20.44
          ],
          [
           "NYCFC",
           12,
           54,
           2.62,
           23.88
          ],
          [
           "NY Red Bulls",
           14,
           53,
           2.74,
           24.94
          ],
          [
           "CF Montréal",
           17,
           46,
           2.47,
           18.97
          ],
          [
           "Atlanta Utd",
           20,
           45,
           2.24,
           25.32
          ],
          [
           "D.C. United",
           20,
           52,
           2.74,
           24.29
          ],
          [
           "Toronto FC",
           22,
           38,
           2,
           19.97
          ],
          [
           "Philadelphia Union",
           22,
           62,
           2.91,
           26.94
          ],
          [
           "Nashville SC",
           25,
           37,
           2.03,
           19.41
          ],
          [
           "NE Revolution",
           26,
           36,
           1.82,
           21.26
          ],
          [
           "Chicago Fire",
           28,
           40,
           2,
           21.06
          ],
          [
           "LAFC",
           3,
           62,
           3.29,
           26.79
          ],
          [
           "LA Galaxy",
           3,
           68,
           3.47,
           26
          ],
          [
           "Real Salt Lake",
           5,
           63,
           3.18,
           25.91
          ],
          [
           "Seattle Sounders FC",
           7,
           49,
           2.47,
           24.06
          ],
          [
           "Houston Dynamo",
           8,
           45,
           2.21,
           24.35
          ],
          [
           "Minnesota Utd",
           9,
           55,
           2.68,
           22.03
          ],
          [
           "Colorado Rapids",
           12,
           57,
           2.85,
           22.44
          ],
          [
           "Vancouver W'caps",
           14,
           50,
           2.44,
           22.18
          ],
          [
           "Portland Timbers",
           14,
           64,
           3.24,
           24.91
          ],
          [
           "Austin",
           18,
           39,
           2.15,
           18.09
          ],
          [
           "FC Dallas",
           19,
           51,
           2.65,
           21.44
          ],
          [
           "St. Louis",
           22,
           47,
           2.29,
           24.38
          ],
          [
           "Sporting KC",
           26,
           51,
           2.53,
           23.74
          ],
          [
           "SJ Earthquakes",
           29,
           39,
           1.85,
           21.15
          ]
         ],
         "hovertemplate": "<b>%{customdata[0]}</b><br>Rank : %{customdata[1]}<br>Goals Scored : %{customdata[2]}<br>SCA90 : %{customdata[4]}<br>GCA90 : %{customdata[3]}<extra></extra>",
         "marker": {
          "color": "purple"
         },
         "mode": "markers",
         "name": "Toutes les Conférences",
         "type": "scatter",
         "visible": false,
         "x": [
          21.5,
          25.68,
          25.06,
          23.59,
          20.44,
          23.88,
          24.94,
          18.97,
          25.32,
          24.29,
          19.97,
          26.94,
          19.41,
          21.26,
          21.06,
          26.79,
          26,
          25.91,
          24.06,
          24.35,
          22.03,
          22.44,
          22.18,
          24.91,
          18.09,
          21.44,
          24.38,
          23.74,
          21.15
         ],
         "y": [
          4.35,
          3.59,
          2.94,
          2.79,
          2.18,
          2.62,
          2.74,
          2.47,
          2.24,
          2.74,
          2,
          2.91,
          2.03,
          1.82,
          2,
          3.29,
          3.47,
          3.18,
          2.47,
          2.21,
          2.68,
          2.85,
          2.44,
          3.24,
          2.15,
          2.65,
          2.29,
          2.53,
          1.85
         ]
        },
        {
         "customdata": [
          [
           "Inter Miami",
           1,
           78,
           53.8,
           24.2
          ],
          [
           "Columbus Crew",
           2,
           72,
           57.9,
           14.1
          ],
          [
           "FC Cincinnati",
           3,
           57,
           48.4,
           8.6
          ],
          [
           "Orlando City",
           4,
           56,
           50.6,
           5.4
          ],
          [
           "Charlotte",
           5,
           45,
           46.7,
           -1.7
          ],
          [
           "NYCFC",
           6,
           54,
           54.5,
           -0.5
          ],
          [
           "NY Red Bulls",
           7,
           53,
           56.5,
           -3.5
          ],
          [
           "CF Montréal",
           8,
           46,
           43.7,
           2.3
          ],
          [
           "Atlanta Utd",
           9,
           45,
           51.4,
           -6.4
          ],
          [
           "D.C. United",
           9,
           52,
           52.9,
           -0.9
          ],
          [
           "Toronto FC",
           11,
           38,
           38.9,
           -0.9
          ],
          [
           "Philadelphia Union",
           11,
           62,
           59.9,
           2.1
          ],
          [
           "Nashville SC",
           13,
           37,
           45,
           -8
          ],
          [
           "NE Revolution",
           14,
           36,
           36.8,
           -0.8
          ],
          [
           "Chicago Fire",
           15,
           40,
           44,
           -4
          ]
         ],
         "hovertemplate": "<b>%{customdata[0]}</b><br>Rank : %{customdata[1]}<br>Goals Scored : %{customdata[2]}<br>xG : %{customdata[4]}<br>Expected_G-xG : %{customdata[3]}<extra></extra>",
         "marker": {
          "color": "blue"
         },
         "mode": "markers",
         "name": "Conférence Est (xG)",
         "type": "scatter",
         "visible": false,
         "x": [
          53.8,
          57.9,
          48.4,
          50.6,
          46.7,
          54.5,
          56.5,
          43.7,
          51.4,
          52.9,
          38.9,
          59.9,
          45,
          36.8,
          44
         ],
         "y": [
          24.2,
          14.1,
          8.6,
          5.4,
          -1.7,
          -0.5,
          -3.5,
          2.3,
          -6.4,
          -0.9,
          -0.9,
          2.1,
          -8,
          -0.8,
          -4
         ]
        },
        {
         "customdata": [
          [
           "LAFC",
           1,
           62,
           59.2,
           2.8
          ],
          [
           "LA Galaxy",
           1,
           68,
           63.8,
           4.2
          ],
          [
           "Real Salt Lake",
           3,
           63,
           55.2,
           7.8
          ],
          [
           "Seattle Sounders FC",
           4,
           49,
           49.3,
           -0.3
          ],
          [
           "Houston Dynamo",
           5,
           45,
           42.5,
           2.5
          ],
          [
           "Minnesota Utd",
           6,
           55,
           53.3,
           1.7
          ],
          [
           "Colorado Rapids",
           7,
           57,
           57.5,
           -0.5
          ],
          [
           "Vancouver W'caps",
           8,
           50,
           49.4,
           0.6
          ],
          [
           "Portland Timbers",
           8,
           64,
           53.9,
           10.1
          ],
          [
           "Austin",
           10,
           39,
           39.6,
           -0.6
          ],
          [
           "FC Dallas",
           11,
           51,
           41.8,
           9.2
          ],
          [
           "St. Louis",
           12,
           47,
           46.9,
           0.1
          ],
          [
           "Sporting KC",
           13,
           51,
           42.9,
           8.1
          ],
          [
           "SJ Earthquakes",
           14,
           39,
           45.4,
           -6.4
          ]
         ],
         "hovertemplate": "<b>%{customdata[0]}</b><br>Rank : %{customdata[1]}<br>Goals Scored : %{customdata[2]}<br>xG : %{customdata[4]}<br>Expected_G-xG : %{customdata[3]}<extra></extra>",
         "marker": {
          "color": "red"
         },
         "mode": "markers",
         "name": "Conférence Ouest (xG)",
         "type": "scatter",
         "visible": false,
         "x": [
          59.2,
          63.8,
          55.2,
          49.3,
          42.5,
          53.3,
          57.5,
          49.4,
          53.9,
          39.6,
          41.8,
          46.9,
          42.9,
          45.4
         ],
         "y": [
          2.8,
          4.2,
          7.8,
          -0.3,
          2.5,
          1.7,
          -0.5,
          0.6,
          10.1,
          -0.6,
          9.2,
          0.1,
          8.1,
          -6.4
         ]
        },
        {
         "customdata": [
          [
           "Inter Miami",
           1,
           78,
           53.8,
           24.2
          ],
          [
           "Columbus Crew",
           2,
           72,
           57.9,
           14.1
          ],
          [
           "FC Cincinnati",
           5,
           57,
           48.4,
           8.6
          ],
          [
           "Orlando City",
           9,
           56,
           50.6,
           5.4
          ],
          [
           "Charlotte",
           11,
           45,
           46.7,
           -1.7
          ],
          [
           "NYCFC",
           12,
           54,
           54.5,
           -0.5
          ],
          [
           "NY Red Bulls",
           14,
           53,
           56.5,
           -3.5
          ],
          [
           "CF Montréal",
           17,
           46,
           43.7,
           2.3
          ],
          [
           "Atlanta Utd",
           20,
           45,
           51.4,
           -6.4
          ],
          [
           "D.C. United",
           20,
           52,
           52.9,
           -0.9
          ],
          [
           "Toronto FC",
           22,
           38,
           38.9,
           -0.9
          ],
          [
           "Philadelphia Union",
           22,
           62,
           59.9,
           2.1
          ],
          [
           "Nashville SC",
           25,
           37,
           45,
           -8
          ],
          [
           "NE Revolution",
           26,
           36,
           36.8,
           -0.8
          ],
          [
           "Chicago Fire",
           28,
           40,
           44,
           -4
          ],
          [
           "LAFC",
           3,
           62,
           59.2,
           2.8
          ],
          [
           "LA Galaxy",
           3,
           68,
           63.8,
           4.2
          ],
          [
           "Real Salt Lake",
           5,
           63,
           55.2,
           7.8
          ],
          [
           "Seattle Sounders FC",
           7,
           49,
           49.3,
           -0.3
          ],
          [
           "Houston Dynamo",
           8,
           45,
           42.5,
           2.5
          ],
          [
           "Minnesota Utd",
           9,
           55,
           53.3,
           1.7
          ],
          [
           "Colorado Rapids",
           12,
           57,
           57.5,
           -0.5
          ],
          [
           "Vancouver W'caps",
           14,
           50,
           49.4,
           0.6
          ],
          [
           "Portland Timbers",
           14,
           64,
           53.9,
           10.1
          ],
          [
           "Austin",
           18,
           39,
           39.6,
           -0.6
          ],
          [
           "FC Dallas",
           19,
           51,
           41.8,
           9.2
          ],
          [
           "St. Louis",
           22,
           47,
           46.9,
           0.1
          ],
          [
           "Sporting KC",
           26,
           51,
           42.9,
           8.1
          ],
          [
           "SJ Earthquakes",
           29,
           39,
           45.4,
           -6.4
          ]
         ],
         "hovertemplate": "<b>%{customdata[0]}</b><br>Rank : %{customdata[1]}<br>Goals Scored : %{customdata[2]}<br>xG : %{customdata[4]}<br>Expected_G-xG : %{customdata[3]}<extra></extra>",
         "marker": {
          "color": "purple"
         },
         "mode": "markers",
         "name": "Toutes les Conférences (xG)",
         "type": "scatter",
         "visible": false,
         "x": [
          53.8,
          57.9,
          48.4,
          50.6,
          46.7,
          54.5,
          56.5,
          43.7,
          51.4,
          52.9,
          38.9,
          59.9,
          45,
          36.8,
          44,
          59.2,
          63.8,
          55.2,
          49.3,
          42.5,
          53.3,
          57.5,
          49.4,
          53.9,
          39.6,
          41.8,
          46.9,
          42.9,
          45.4
         ],
         "y": [
          24.2,
          14.1,
          8.6,
          5.4,
          -1.7,
          -0.5,
          -3.5,
          2.3,
          -6.4,
          -0.9,
          -0.9,
          2.1,
          -8,
          -0.8,
          -4,
          2.8,
          4.2,
          7.8,
          -0.3,
          2.5,
          1.7,
          -0.5,
          0.6,
          10.1,
          -0.6,
          9.2,
          0.1,
          8.1,
          -6.4
         ]
        }
       ],
       "layout": {
        "template": {
         "data": {
          "bar": [
           {
            "error_x": {
             "color": "#2a3f5f"
            },
            "error_y": {
             "color": "#2a3f5f"
            },
            "marker": {
             "line": {
              "color": "#E5ECF6",
              "width": 0.5
             },
             "pattern": {
              "fillmode": "overlay",
              "size": 10,
              "solidity": 0.2
             }
            },
            "type": "bar"
           }
          ],
          "barpolar": [
           {
            "marker": {
             "line": {
              "color": "#E5ECF6",
              "width": 0.5
             },
             "pattern": {
              "fillmode": "overlay",
              "size": 10,
              "solidity": 0.2
             }
            },
            "type": "barpolar"
           }
          ],
          "carpet": [
           {
            "aaxis": {
             "endlinecolor": "#2a3f5f",
             "gridcolor": "white",
             "linecolor": "white",
             "minorgridcolor": "white",
             "startlinecolor": "#2a3f5f"
            },
            "baxis": {
             "endlinecolor": "#2a3f5f",
             "gridcolor": "white",
             "linecolor": "white",
             "minorgridcolor": "white",
             "startlinecolor": "#2a3f5f"
            },
            "type": "carpet"
           }
          ],
          "choropleth": [
           {
            "colorbar": {
             "outlinewidth": 0,
             "ticks": ""
            },
            "type": "choropleth"
           }
          ],
          "contour": [
           {
            "colorbar": {
             "outlinewidth": 0,
             "ticks": ""
            },
            "colorscale": [
             [
              0,
              "#0d0887"
             ],
             [
              0.1111111111111111,
              "#46039f"
             ],
             [
              0.2222222222222222,
              "#7201a8"
             ],
             [
              0.3333333333333333,
              "#9c179e"
             ],
             [
              0.4444444444444444,
              "#bd3786"
             ],
             [
              0.5555555555555556,
              "#d8576b"
             ],
             [
              0.6666666666666666,
              "#ed7953"
             ],
             [
              0.7777777777777778,
              "#fb9f3a"
             ],
             [
              0.8888888888888888,
              "#fdca26"
             ],
             [
              1,
              "#f0f921"
             ]
            ],
            "type": "contour"
           }
          ],
          "contourcarpet": [
           {
            "colorbar": {
             "outlinewidth": 0,
             "ticks": ""
            },
            "type": "contourcarpet"
           }
          ],
          "heatmap": [
           {
            "colorbar": {
             "outlinewidth": 0,
             "ticks": ""
            },
            "colorscale": [
             [
              0,
              "#0d0887"
             ],
             [
              0.1111111111111111,
              "#46039f"
             ],
             [
              0.2222222222222222,
              "#7201a8"
             ],
             [
              0.3333333333333333,
              "#9c179e"
             ],
             [
              0.4444444444444444,
              "#bd3786"
             ],
             [
              0.5555555555555556,
              "#d8576b"
             ],
             [
              0.6666666666666666,
              "#ed7953"
             ],
             [
              0.7777777777777778,
              "#fb9f3a"
             ],
             [
              0.8888888888888888,
              "#fdca26"
             ],
             [
              1,
              "#f0f921"
             ]
            ],
            "type": "heatmap"
           }
          ],
          "heatmapgl": [
           {
            "colorbar": {
             "outlinewidth": 0,
             "ticks": ""
            },
            "colorscale": [
             [
              0,
              "#0d0887"
             ],
             [
              0.1111111111111111,
              "#46039f"
             ],
             [
              0.2222222222222222,
              "#7201a8"
             ],
             [
              0.3333333333333333,
              "#9c179e"
             ],
             [
              0.4444444444444444,
              "#bd3786"
             ],
             [
              0.5555555555555556,
              "#d8576b"
             ],
             [
              0.6666666666666666,
              "#ed7953"
             ],
             [
              0.7777777777777778,
              "#fb9f3a"
             ],
             [
              0.8888888888888888,
              "#fdca26"
             ],
             [
              1,
              "#f0f921"
             ]
            ],
            "type": "heatmapgl"
           }
          ],
          "histogram": [
           {
            "marker": {
             "pattern": {
              "fillmode": "overlay",
              "size": 10,
              "solidity": 0.2
             }
            },
            "type": "histogram"
           }
          ],
          "histogram2d": [
           {
            "colorbar": {
             "outlinewidth": 0,
             "ticks": ""
            },
            "colorscale": [
             [
              0,
              "#0d0887"
             ],
             [
              0.1111111111111111,
              "#46039f"
             ],
             [
              0.2222222222222222,
              "#7201a8"
             ],
             [
              0.3333333333333333,
              "#9c179e"
             ],
             [
              0.4444444444444444,
              "#bd3786"
             ],
             [
              0.5555555555555556,
              "#d8576b"
             ],
             [
              0.6666666666666666,
              "#ed7953"
             ],
             [
              0.7777777777777778,
              "#fb9f3a"
             ],
             [
              0.8888888888888888,
              "#fdca26"
             ],
             [
              1,
              "#f0f921"
             ]
            ],
            "type": "histogram2d"
           }
          ],
          "histogram2dcontour": [
           {
            "colorbar": {
             "outlinewidth": 0,
             "ticks": ""
            },
            "colorscale": [
             [
              0,
              "#0d0887"
             ],
             [
              0.1111111111111111,
              "#46039f"
             ],
             [
              0.2222222222222222,
              "#7201a8"
             ],
             [
              0.3333333333333333,
              "#9c179e"
             ],
             [
              0.4444444444444444,
              "#bd3786"
             ],
             [
              0.5555555555555556,
              "#d8576b"
             ],
             [
              0.6666666666666666,
              "#ed7953"
             ],
             [
              0.7777777777777778,
              "#fb9f3a"
             ],
             [
              0.8888888888888888,
              "#fdca26"
             ],
             [
              1,
              "#f0f921"
             ]
            ],
            "type": "histogram2dcontour"
           }
          ],
          "mesh3d": [
           {
            "colorbar": {
             "outlinewidth": 0,
             "ticks": ""
            },
            "type": "mesh3d"
           }
          ],
          "parcoords": [
           {
            "line": {
             "colorbar": {
              "outlinewidth": 0,
              "ticks": ""
             }
            },
            "type": "parcoords"
           }
          ],
          "pie": [
           {
            "automargin": true,
            "type": "pie"
           }
          ],
          "scatter": [
           {
            "fillpattern": {
             "fillmode": "overlay",
             "size": 10,
             "solidity": 0.2
            },
            "type": "scatter"
           }
          ],
          "scatter3d": [
           {
            "line": {
             "colorbar": {
              "outlinewidth": 0,
              "ticks": ""
             }
            },
            "marker": {
             "colorbar": {
              "outlinewidth": 0,
              "ticks": ""
             }
            },
            "type": "scatter3d"
           }
          ],
          "scattercarpet": [
           {
            "marker": {
             "colorbar": {
              "outlinewidth": 0,
              "ticks": ""
             }
            },
            "type": "scattercarpet"
           }
          ],
          "scattergeo": [
           {
            "marker": {
             "colorbar": {
              "outlinewidth": 0,
              "ticks": ""
             }
            },
            "type": "scattergeo"
           }
          ],
          "scattergl": [
           {
            "marker": {
             "colorbar": {
              "outlinewidth": 0,
              "ticks": ""
             }
            },
            "type": "scattergl"
           }
          ],
          "scattermapbox": [
           {
            "marker": {
             "colorbar": {
              "outlinewidth": 0,
              "ticks": ""
             }
            },
            "type": "scattermapbox"
           }
          ],
          "scatterpolar": [
           {
            "marker": {
             "colorbar": {
              "outlinewidth": 0,
              "ticks": ""
             }
            },
            "type": "scatterpolar"
           }
          ],
          "scatterpolargl": [
           {
            "marker": {
             "colorbar": {
              "outlinewidth": 0,
              "ticks": ""
             }
            },
            "type": "scatterpolargl"
           }
          ],
          "scatterternary": [
           {
            "marker": {
             "colorbar": {
              "outlinewidth": 0,
              "ticks": ""
             }
            },
            "type": "scatterternary"
           }
          ],
          "surface": [
           {
            "colorbar": {
             "outlinewidth": 0,
             "ticks": ""
            },
            "colorscale": [
             [
              0,
              "#0d0887"
             ],
             [
              0.1111111111111111,
              "#46039f"
             ],
             [
              0.2222222222222222,
              "#7201a8"
             ],
             [
              0.3333333333333333,
              "#9c179e"
             ],
             [
              0.4444444444444444,
              "#bd3786"
             ],
             [
              0.5555555555555556,
              "#d8576b"
             ],
             [
              0.6666666666666666,
              "#ed7953"
             ],
             [
              0.7777777777777778,
              "#fb9f3a"
             ],
             [
              0.8888888888888888,
              "#fdca26"
             ],
             [
              1,
              "#f0f921"
             ]
            ],
            "type": "surface"
           }
          ],
          "table": [
           {
            "cells": {
             "fill": {
              "color": "#EBF0F8"
             },
             "line": {
              "color": "white"
             }
            },
            "header": {
             "fill": {
              "color": "#C8D4E3"
             },
             "line": {
              "color": "white"
             }
            },
            "type": "table"
           }
          ]
         },
         "layout": {
          "annotationdefaults": {
           "arrowcolor": "#2a3f5f",
           "arrowhead": 0,
           "arrowwidth": 1
          },
          "autotypenumbers": "strict",
          "coloraxis": {
           "colorbar": {
            "outlinewidth": 0,
            "ticks": ""
           }
          },
          "colorscale": {
           "diverging": [
            [
             0,
             "#8e0152"
            ],
            [
             0.1,
             "#c51b7d"
            ],
            [
             0.2,
             "#de77ae"
            ],
            [
             0.3,
             "#f1b6da"
            ],
            [
             0.4,
             "#fde0ef"
            ],
            [
             0.5,
             "#f7f7f7"
            ],
            [
             0.6,
             "#e6f5d0"
            ],
            [
             0.7,
             "#b8e186"
            ],
            [
             0.8,
             "#7fbc41"
            ],
            [
             0.9,
             "#4d9221"
            ],
            [
             1,
             "#276419"
            ]
           ],
           "sequential": [
            [
             0,
             "#0d0887"
            ],
            [
             0.1111111111111111,
             "#46039f"
            ],
            [
             0.2222222222222222,
             "#7201a8"
            ],
            [
             0.3333333333333333,
             "#9c179e"
            ],
            [
             0.4444444444444444,
             "#bd3786"
            ],
            [
             0.5555555555555556,
             "#d8576b"
            ],
            [
             0.6666666666666666,
             "#ed7953"
            ],
            [
             0.7777777777777778,
             "#fb9f3a"
            ],
            [
             0.8888888888888888,
             "#fdca26"
            ],
            [
             1,
             "#f0f921"
            ]
           ],
           "sequentialminus": [
            [
             0,
             "#0d0887"
            ],
            [
             0.1111111111111111,
             "#46039f"
            ],
            [
             0.2222222222222222,
             "#7201a8"
            ],
            [
             0.3333333333333333,
             "#9c179e"
            ],
            [
             0.4444444444444444,
             "#bd3786"
            ],
            [
             0.5555555555555556,
             "#d8576b"
            ],
            [
             0.6666666666666666,
             "#ed7953"
            ],
            [
             0.7777777777777778,
             "#fb9f3a"
            ],
            [
             0.8888888888888888,
             "#fdca26"
            ],
            [
             1,
             "#f0f921"
            ]
           ]
          },
          "colorway": [
           "#636efa",
           "#EF553B",
           "#00cc96",
           "#ab63fa",
           "#FFA15A",
           "#19d3f3",
           "#FF6692",
           "#B6E880",
           "#FF97FF",
           "#FECB52"
          ],
          "font": {
           "color": "#2a3f5f"
          },
          "geo": {
           "bgcolor": "white",
           "lakecolor": "white",
           "landcolor": "#E5ECF6",
           "showlakes": true,
           "showland": true,
           "subunitcolor": "white"
          },
          "hoverlabel": {
           "align": "left"
          },
          "hovermode": "closest",
          "mapbox": {
           "style": "light"
          },
          "paper_bgcolor": "white",
          "plot_bgcolor": "#E5ECF6",
          "polar": {
           "angularaxis": {
            "gridcolor": "white",
            "linecolor": "white",
            "ticks": ""
           },
           "bgcolor": "#E5ECF6",
           "radialaxis": {
            "gridcolor": "white",
            "linecolor": "white",
            "ticks": ""
           }
          },
          "scene": {
           "xaxis": {
            "backgroundcolor": "#E5ECF6",
            "gridcolor": "white",
            "gridwidth": 2,
            "linecolor": "white",
            "showbackground": true,
            "ticks": "",
            "zerolinecolor": "white"
           },
           "yaxis": {
            "backgroundcolor": "#E5ECF6",
            "gridcolor": "white",
            "gridwidth": 2,
            "linecolor": "white",
            "showbackground": true,
            "ticks": "",
            "zerolinecolor": "white"
           },
           "zaxis": {
            "backgroundcolor": "#E5ECF6",
            "gridcolor": "white",
            "gridwidth": 2,
            "linecolor": "white",
            "showbackground": true,
            "ticks": "",
            "zerolinecolor": "white"
           }
          },
          "shapedefaults": {
           "line": {
            "color": "#2a3f5f"
           }
          },
          "ternary": {
           "aaxis": {
            "gridcolor": "white",
            "linecolor": "white",
            "ticks": ""
           },
           "baxis": {
            "gridcolor": "white",
            "linecolor": "white",
            "ticks": ""
           },
           "bgcolor": "#E5ECF6",
           "caxis": {
            "gridcolor": "white",
            "linecolor": "white",
            "ticks": ""
           }
          },
          "title": {
           "x": 0.05
          },
          "xaxis": {
           "automargin": true,
           "gridcolor": "white",
           "linecolor": "white",
           "ticks": "",
           "title": {
            "standoff": 15
           },
           "zerolinecolor": "white",
           "zerolinewidth": 2
          },
          "yaxis": {
           "automargin": true,
           "gridcolor": "white",
           "linecolor": "white",
           "ticks": "",
           "title": {
            "standoff": 15
           },
           "zerolinecolor": "white",
           "zerolinewidth": 2
          }
         }
        },
        "updatemenus": [
         {
          "buttons": [
           {
            "args": [
             {
              "visible": [
               true,
               false,
               false,
               false,
               false,
               false
              ]
             },
             {
              "xaxis.title": "SCA_SCA90",
              "yaxis.title": "GCA_GCA90"
             }
            ],
            "label": "SCA_SCA90 vs GCA_GCA90",
            "method": "update"
           },
           {
            "args": [
             {
              "visible": [
               false,
               false,
               false,
               true,
               true,
               true
              ]
             },
             {
              "xaxis.title": "xG",
              "yaxis.title": "Expected G - xG"
             }
            ],
            "label": "xG vs Expected G-xG",
            "method": "update"
           }
          ],
          "direction": "down",
          "showactive": true,
          "x": 0.1,
          "xanchor": "left",
          "y": 1.15,
          "yanchor": "top"
         },
         {
          "buttons": [
           {
            "args": [
             {
              "visible": [
               true,
               false,
               false,
               true,
               false,
               false
              ]
             }
            ],
            "label": "Conférence Est",
            "method": "update"
           },
           {
            "args": [
             {
              "visible": [
               false,
               true,
               false,
               false,
               true,
               false
              ]
             }
            ],
            "label": "Conférence Ouest",
            "method": "update"
           },
           {
            "args": [
             {
              "visible": [
               false,
               false,
               true,
               false,
               false,
               true
              ]
             }
            ],
            "label": "Toutes les Conférences",
            "method": "update"
           }
          ],
          "direction": "down",
          "showactive": true,
          "x": 0.5,
          "xanchor": "left",
          "y": 1.15,
          "yanchor": "top"
         }
        ]
       }
      },
      "text/html": [
       "<div>                            <div id=\"e8778c03-934d-4b01-97d2-86dead73e31f\" class=\"plotly-graph-div\" style=\"height:525px; width:100%;\"></div>            <script type=\"text/javascript\">                require([\"plotly\"], function(Plotly) {                    window.PLOTLYENV=window.PLOTLYENV || {};                                    if (document.getElementById(\"e8778c03-934d-4b01-97d2-86dead73e31f\")) {                    Plotly.newPlot(                        \"e8778c03-934d-4b01-97d2-86dead73e31f\",                        [{\"customdata\":[[\"Inter Miami\",1,78,4.35,21.5],[\"Columbus Crew\",2,72,3.59,25.68],[\"FC Cincinnati\",3,57,2.94,25.06],[\"Orlando City\",4,56,2.79,23.59],[\"Charlotte\",5,45,2.18,20.44],[\"NYCFC\",6,54,2.62,23.88],[\"NY Red Bulls\",7,53,2.74,24.94],[\"CF Montr\\u00e9al\",8,46,2.47,18.97],[\"Atlanta Utd\",9,45,2.24,25.32],[\"D.C. United\",9,52,2.74,24.29],[\"Toronto FC\",11,38,2.0,19.97],[\"Philadelphia Union\",11,62,2.91,26.94],[\"Nashville SC\",13,37,2.03,19.41],[\"NE Revolution\",14,36,1.82,21.26],[\"Chicago Fire\",15,40,2.0,21.06]],\"hovertemplate\":\"<b>%{customdata[0]}</b><br>Rank : %{customdata[1]}<br>Goals Scored : %{customdata[2]}<br>SCA90 : %{customdata[4]}<br>GCA90 : %{customdata[3]}<extra></extra>\",\"marker\":{\"color\":\"blue\"},\"mode\":\"markers\",\"name\":\"Conf\\u00e9rence Est\",\"visible\":true,\"x\":[21.5,25.68,25.06,23.59,20.44,23.88,24.94,18.97,25.32,24.29,19.97,26.94,19.41,21.26,21.06],\"y\":[4.35,3.59,2.94,2.79,2.18,2.62,2.74,2.47,2.24,2.74,2.0,2.91,2.03,1.82,2.0],\"type\":\"scatter\"},{\"customdata\":[[\"LAFC\",1,62,3.29,26.79],[\"LA Galaxy\",1,68,3.47,26.0],[\"Real Salt Lake\",3,63,3.18,25.91],[\"Seattle Sounders FC\",4,49,2.47,24.06],[\"Houston Dynamo\",5,45,2.21,24.35],[\"Minnesota Utd\",6,55,2.68,22.03],[\"Colorado Rapids\",7,57,2.85,22.44],[\"Vancouver W'caps\",8,50,2.44,22.18],[\"Portland Timbers\",8,64,3.24,24.91],[\"Austin\",10,39,2.15,18.09],[\"FC Dallas\",11,51,2.65,21.44],[\"St. Louis\",12,47,2.29,24.38],[\"Sporting KC\",13,51,2.53,23.74],[\"SJ Earthquakes\",14,39,1.85,21.15]],\"hovertemplate\":\"<b>%{customdata[0]}</b><br>Rank : %{customdata[1]}<br>Goals Scored : %{customdata[2]}<br>SCA90 : %{customdata[4]}<br>GCA90 : %{customdata[3]}<extra></extra>\",\"marker\":{\"color\":\"red\"},\"mode\":\"markers\",\"name\":\"Conf\\u00e9rence Ouest\",\"visible\":false,\"x\":[26.79,26.0,25.91,24.06,24.35,22.03,22.44,22.18,24.91,18.09,21.44,24.38,23.74,21.15],\"y\":[3.29,3.47,3.18,2.47,2.21,2.68,2.85,2.44,3.24,2.15,2.65,2.29,2.53,1.85],\"type\":\"scatter\"},{\"customdata\":[[\"Inter Miami\",1,78,4.35,21.5],[\"Columbus Crew\",2,72,3.59,25.68],[\"FC Cincinnati\",5,57,2.94,25.06],[\"Orlando City\",9,56,2.79,23.59],[\"Charlotte\",11,45,2.18,20.44],[\"NYCFC\",12,54,2.62,23.88],[\"NY Red Bulls\",14,53,2.74,24.94],[\"CF Montr\\u00e9al\",17,46,2.47,18.97],[\"Atlanta Utd\",20,45,2.24,25.32],[\"D.C. United\",20,52,2.74,24.29],[\"Toronto FC\",22,38,2.0,19.97],[\"Philadelphia Union\",22,62,2.91,26.94],[\"Nashville SC\",25,37,2.03,19.41],[\"NE Revolution\",26,36,1.82,21.26],[\"Chicago Fire\",28,40,2.0,21.06],[\"LAFC\",3,62,3.29,26.79],[\"LA Galaxy\",3,68,3.47,26.0],[\"Real Salt Lake\",5,63,3.18,25.91],[\"Seattle Sounders FC\",7,49,2.47,24.06],[\"Houston Dynamo\",8,45,2.21,24.35],[\"Minnesota Utd\",9,55,2.68,22.03],[\"Colorado Rapids\",12,57,2.85,22.44],[\"Vancouver W'caps\",14,50,2.44,22.18],[\"Portland Timbers\",14,64,3.24,24.91],[\"Austin\",18,39,2.15,18.09],[\"FC Dallas\",19,51,2.65,21.44],[\"St. Louis\",22,47,2.29,24.38],[\"Sporting KC\",26,51,2.53,23.74],[\"SJ Earthquakes\",29,39,1.85,21.15]],\"hovertemplate\":\"<b>%{customdata[0]}</b><br>Rank : %{customdata[1]}<br>Goals Scored : %{customdata[2]}<br>SCA90 : %{customdata[4]}<br>GCA90 : %{customdata[3]}<extra></extra>\",\"marker\":{\"color\":\"purple\"},\"mode\":\"markers\",\"name\":\"Toutes les Conf\\u00e9rences\",\"visible\":false,\"x\":[21.5,25.68,25.06,23.59,20.44,23.88,24.94,18.97,25.32,24.29,19.97,26.94,19.41,21.26,21.06,26.79,26.0,25.91,24.06,24.35,22.03,22.44,22.18,24.91,18.09,21.44,24.38,23.74,21.15],\"y\":[4.35,3.59,2.94,2.79,2.18,2.62,2.74,2.47,2.24,2.74,2.0,2.91,2.03,1.82,2.0,3.29,3.47,3.18,2.47,2.21,2.68,2.85,2.44,3.24,2.15,2.65,2.29,2.53,1.85],\"type\":\"scatter\"},{\"customdata\":[[\"Inter Miami\",1,78,53.8,24.2],[\"Columbus Crew\",2,72,57.9,14.1],[\"FC Cincinnati\",3,57,48.4,8.6],[\"Orlando City\",4,56,50.6,5.4],[\"Charlotte\",5,45,46.7,-1.7],[\"NYCFC\",6,54,54.5,-0.5],[\"NY Red Bulls\",7,53,56.5,-3.5],[\"CF Montr\\u00e9al\",8,46,43.7,2.3],[\"Atlanta Utd\",9,45,51.4,-6.4],[\"D.C. United\",9,52,52.9,-0.9],[\"Toronto FC\",11,38,38.9,-0.9],[\"Philadelphia Union\",11,62,59.9,2.1],[\"Nashville SC\",13,37,45.0,-8.0],[\"NE Revolution\",14,36,36.8,-0.8],[\"Chicago Fire\",15,40,44.0,-4.0]],\"hovertemplate\":\"<b>%{customdata[0]}</b><br>Rank : %{customdata[1]}<br>Goals Scored : %{customdata[2]}<br>xG : %{customdata[4]}<br>Expected_G-xG : %{customdata[3]}<extra></extra>\",\"marker\":{\"color\":\"blue\"},\"mode\":\"markers\",\"name\":\"Conf\\u00e9rence Est (xG)\",\"visible\":false,\"x\":[53.8,57.9,48.4,50.6,46.7,54.5,56.5,43.7,51.4,52.9,38.9,59.9,45.0,36.8,44.0],\"y\":[24.2,14.1,8.6,5.4,-1.7,-0.5,-3.5,2.3,-6.4,-0.9,-0.9,2.1,-8.0,-0.8,-4.0],\"type\":\"scatter\"},{\"customdata\":[[\"LAFC\",1,62,59.2,2.8],[\"LA Galaxy\",1,68,63.8,4.2],[\"Real Salt Lake\",3,63,55.2,7.8],[\"Seattle Sounders FC\",4,49,49.3,-0.3],[\"Houston Dynamo\",5,45,42.5,2.5],[\"Minnesota Utd\",6,55,53.3,1.7],[\"Colorado Rapids\",7,57,57.5,-0.5],[\"Vancouver W'caps\",8,50,49.4,0.6],[\"Portland Timbers\",8,64,53.9,10.1],[\"Austin\",10,39,39.6,-0.6],[\"FC Dallas\",11,51,41.8,9.2],[\"St. Louis\",12,47,46.9,0.1],[\"Sporting KC\",13,51,42.9,8.1],[\"SJ Earthquakes\",14,39,45.4,-6.4]],\"hovertemplate\":\"<b>%{customdata[0]}</b><br>Rank : %{customdata[1]}<br>Goals Scored : %{customdata[2]}<br>xG : %{customdata[4]}<br>Expected_G-xG : %{customdata[3]}<extra></extra>\",\"marker\":{\"color\":\"red\"},\"mode\":\"markers\",\"name\":\"Conf\\u00e9rence Ouest (xG)\",\"visible\":false,\"x\":[59.2,63.8,55.2,49.3,42.5,53.3,57.5,49.4,53.9,39.6,41.8,46.9,42.9,45.4],\"y\":[2.8,4.2,7.8,-0.3,2.5,1.7,-0.5,0.6,10.1,-0.6,9.2,0.1,8.1,-6.4],\"type\":\"scatter\"},{\"customdata\":[[\"Inter Miami\",1,78,53.8,24.2],[\"Columbus Crew\",2,72,57.9,14.1],[\"FC Cincinnati\",5,57,48.4,8.6],[\"Orlando City\",9,56,50.6,5.4],[\"Charlotte\",11,45,46.7,-1.7],[\"NYCFC\",12,54,54.5,-0.5],[\"NY Red Bulls\",14,53,56.5,-3.5],[\"CF Montr\\u00e9al\",17,46,43.7,2.3],[\"Atlanta Utd\",20,45,51.4,-6.4],[\"D.C. United\",20,52,52.9,-0.9],[\"Toronto FC\",22,38,38.9,-0.9],[\"Philadelphia Union\",22,62,59.9,2.1],[\"Nashville SC\",25,37,45.0,-8.0],[\"NE Revolution\",26,36,36.8,-0.8],[\"Chicago Fire\",28,40,44.0,-4.0],[\"LAFC\",3,62,59.2,2.8],[\"LA Galaxy\",3,68,63.8,4.2],[\"Real Salt Lake\",5,63,55.2,7.8],[\"Seattle Sounders FC\",7,49,49.3,-0.3],[\"Houston Dynamo\",8,45,42.5,2.5],[\"Minnesota Utd\",9,55,53.3,1.7],[\"Colorado Rapids\",12,57,57.5,-0.5],[\"Vancouver W'caps\",14,50,49.4,0.6],[\"Portland Timbers\",14,64,53.9,10.1],[\"Austin\",18,39,39.6,-0.6],[\"FC Dallas\",19,51,41.8,9.2],[\"St. Louis\",22,47,46.9,0.1],[\"Sporting KC\",26,51,42.9,8.1],[\"SJ Earthquakes\",29,39,45.4,-6.4]],\"hovertemplate\":\"<b>%{customdata[0]}</b><br>Rank : %{customdata[1]}<br>Goals Scored : %{customdata[2]}<br>xG : %{customdata[4]}<br>Expected_G-xG : %{customdata[3]}<extra></extra>\",\"marker\":{\"color\":\"purple\"},\"mode\":\"markers\",\"name\":\"Toutes les Conf\\u00e9rences (xG)\",\"visible\":false,\"x\":[53.8,57.9,48.4,50.6,46.7,54.5,56.5,43.7,51.4,52.9,38.9,59.9,45.0,36.8,44.0,59.2,63.8,55.2,49.3,42.5,53.3,57.5,49.4,53.9,39.6,41.8,46.9,42.9,45.4],\"y\":[24.2,14.1,8.6,5.4,-1.7,-0.5,-3.5,2.3,-6.4,-0.9,-0.9,2.1,-8.0,-0.8,-4.0,2.8,4.2,7.8,-0.3,2.5,1.7,-0.5,0.6,10.1,-0.6,9.2,0.1,8.1,-6.4],\"type\":\"scatter\"}],                        {\"template\":{\"data\":{\"histogram2dcontour\":[{\"type\":\"histogram2dcontour\",\"colorbar\":{\"outlinewidth\":0,\"ticks\":\"\"},\"colorscale\":[[0.0,\"#0d0887\"],[0.1111111111111111,\"#46039f\"],[0.2222222222222222,\"#7201a8\"],[0.3333333333333333,\"#9c179e\"],[0.4444444444444444,\"#bd3786\"],[0.5555555555555556,\"#d8576b\"],[0.6666666666666666,\"#ed7953\"],[0.7777777777777778,\"#fb9f3a\"],[0.8888888888888888,\"#fdca26\"],[1.0,\"#f0f921\"]]}],\"choropleth\":[{\"type\":\"choropleth\",\"colorbar\":{\"outlinewidth\":0,\"ticks\":\"\"}}],\"histogram2d\":[{\"type\":\"histogram2d\",\"colorbar\":{\"outlinewidth\":0,\"ticks\":\"\"},\"colorscale\":[[0.0,\"#0d0887\"],[0.1111111111111111,\"#46039f\"],[0.2222222222222222,\"#7201a8\"],[0.3333333333333333,\"#9c179e\"],[0.4444444444444444,\"#bd3786\"],[0.5555555555555556,\"#d8576b\"],[0.6666666666666666,\"#ed7953\"],[0.7777777777777778,\"#fb9f3a\"],[0.8888888888888888,\"#fdca26\"],[1.0,\"#f0f921\"]]}],\"heatmap\":[{\"type\":\"heatmap\",\"colorbar\":{\"outlinewidth\":0,\"ticks\":\"\"},\"colorscale\":[[0.0,\"#0d0887\"],[0.1111111111111111,\"#46039f\"],[0.2222222222222222,\"#7201a8\"],[0.3333333333333333,\"#9c179e\"],[0.4444444444444444,\"#bd3786\"],[0.5555555555555556,\"#d8576b\"],[0.6666666666666666,\"#ed7953\"],[0.7777777777777778,\"#fb9f3a\"],[0.8888888888888888,\"#fdca26\"],[1.0,\"#f0f921\"]]}],\"heatmapgl\":[{\"type\":\"heatmapgl\",\"colorbar\":{\"outlinewidth\":0,\"ticks\":\"\"},\"colorscale\":[[0.0,\"#0d0887\"],[0.1111111111111111,\"#46039f\"],[0.2222222222222222,\"#7201a8\"],[0.3333333333333333,\"#9c179e\"],[0.4444444444444444,\"#bd3786\"],[0.5555555555555556,\"#d8576b\"],[0.6666666666666666,\"#ed7953\"],[0.7777777777777778,\"#fb9f3a\"],[0.8888888888888888,\"#fdca26\"],[1.0,\"#f0f921\"]]}],\"contourcarpet\":[{\"type\":\"contourcarpet\",\"colorbar\":{\"outlinewidth\":0,\"ticks\":\"\"}}],\"contour\":[{\"type\":\"contour\",\"colorbar\":{\"outlinewidth\":0,\"ticks\":\"\"},\"colorscale\":[[0.0,\"#0d0887\"],[0.1111111111111111,\"#46039f\"],[0.2222222222222222,\"#7201a8\"],[0.3333333333333333,\"#9c179e\"],[0.4444444444444444,\"#bd3786\"],[0.5555555555555556,\"#d8576b\"],[0.6666666666666666,\"#ed7953\"],[0.7777777777777778,\"#fb9f3a\"],[0.8888888888888888,\"#fdca26\"],[1.0,\"#f0f921\"]]}],\"surface\":[{\"type\":\"surface\",\"colorbar\":{\"outlinewidth\":0,\"ticks\":\"\"},\"colorscale\":[[0.0,\"#0d0887\"],[0.1111111111111111,\"#46039f\"],[0.2222222222222222,\"#7201a8\"],[0.3333333333333333,\"#9c179e\"],[0.4444444444444444,\"#bd3786\"],[0.5555555555555556,\"#d8576b\"],[0.6666666666666666,\"#ed7953\"],[0.7777777777777778,\"#fb9f3a\"],[0.8888888888888888,\"#fdca26\"],[1.0,\"#f0f921\"]]}],\"mesh3d\":[{\"type\":\"mesh3d\",\"colorbar\":{\"outlinewidth\":0,\"ticks\":\"\"}}],\"scatter\":[{\"fillpattern\":{\"fillmode\":\"overlay\",\"size\":10,\"solidity\":0.2},\"type\":\"scatter\"}],\"parcoords\":[{\"type\":\"parcoords\",\"line\":{\"colorbar\":{\"outlinewidth\":0,\"ticks\":\"\"}}}],\"scatterpolargl\":[{\"type\":\"scatterpolargl\",\"marker\":{\"colorbar\":{\"outlinewidth\":0,\"ticks\":\"\"}}}],\"bar\":[{\"error_x\":{\"color\":\"#2a3f5f\"},\"error_y\":{\"color\":\"#2a3f5f\"},\"marker\":{\"line\":{\"color\":\"#E5ECF6\",\"width\":0.5},\"pattern\":{\"fillmode\":\"overlay\",\"size\":10,\"solidity\":0.2}},\"type\":\"bar\"}],\"scattergeo\":[{\"type\":\"scattergeo\",\"marker\":{\"colorbar\":{\"outlinewidth\":0,\"ticks\":\"\"}}}],\"scatterpolar\":[{\"type\":\"scatterpolar\",\"marker\":{\"colorbar\":{\"outlinewidth\":0,\"ticks\":\"\"}}}],\"histogram\":[{\"marker\":{\"pattern\":{\"fillmode\":\"overlay\",\"size\":10,\"solidity\":0.2}},\"type\":\"histogram\"}],\"scattergl\":[{\"type\":\"scattergl\",\"marker\":{\"colorbar\":{\"outlinewidth\":0,\"ticks\":\"\"}}}],\"scatter3d\":[{\"type\":\"scatter3d\",\"line\":{\"colorbar\":{\"outlinewidth\":0,\"ticks\":\"\"}},\"marker\":{\"colorbar\":{\"outlinewidth\":0,\"ticks\":\"\"}}}],\"scattermapbox\":[{\"type\":\"scattermapbox\",\"marker\":{\"colorbar\":{\"outlinewidth\":0,\"ticks\":\"\"}}}],\"scatterternary\":[{\"type\":\"scatterternary\",\"marker\":{\"colorbar\":{\"outlinewidth\":0,\"ticks\":\"\"}}}],\"scattercarpet\":[{\"type\":\"scattercarpet\",\"marker\":{\"colorbar\":{\"outlinewidth\":0,\"ticks\":\"\"}}}],\"carpet\":[{\"aaxis\":{\"endlinecolor\":\"#2a3f5f\",\"gridcolor\":\"white\",\"linecolor\":\"white\",\"minorgridcolor\":\"white\",\"startlinecolor\":\"#2a3f5f\"},\"baxis\":{\"endlinecolor\":\"#2a3f5f\",\"gridcolor\":\"white\",\"linecolor\":\"white\",\"minorgridcolor\":\"white\",\"startlinecolor\":\"#2a3f5f\"},\"type\":\"carpet\"}],\"table\":[{\"cells\":{\"fill\":{\"color\":\"#EBF0F8\"},\"line\":{\"color\":\"white\"}},\"header\":{\"fill\":{\"color\":\"#C8D4E3\"},\"line\":{\"color\":\"white\"}},\"type\":\"table\"}],\"barpolar\":[{\"marker\":{\"line\":{\"color\":\"#E5ECF6\",\"width\":0.5},\"pattern\":{\"fillmode\":\"overlay\",\"size\":10,\"solidity\":0.2}},\"type\":\"barpolar\"}],\"pie\":[{\"automargin\":true,\"type\":\"pie\"}]},\"layout\":{\"autotypenumbers\":\"strict\",\"colorway\":[\"#636efa\",\"#EF553B\",\"#00cc96\",\"#ab63fa\",\"#FFA15A\",\"#19d3f3\",\"#FF6692\",\"#B6E880\",\"#FF97FF\",\"#FECB52\"],\"font\":{\"color\":\"#2a3f5f\"},\"hovermode\":\"closest\",\"hoverlabel\":{\"align\":\"left\"},\"paper_bgcolor\":\"white\",\"plot_bgcolor\":\"#E5ECF6\",\"polar\":{\"bgcolor\":\"#E5ECF6\",\"angularaxis\":{\"gridcolor\":\"white\",\"linecolor\":\"white\",\"ticks\":\"\"},\"radialaxis\":{\"gridcolor\":\"white\",\"linecolor\":\"white\",\"ticks\":\"\"}},\"ternary\":{\"bgcolor\":\"#E5ECF6\",\"aaxis\":{\"gridcolor\":\"white\",\"linecolor\":\"white\",\"ticks\":\"\"},\"baxis\":{\"gridcolor\":\"white\",\"linecolor\":\"white\",\"ticks\":\"\"},\"caxis\":{\"gridcolor\":\"white\",\"linecolor\":\"white\",\"ticks\":\"\"}},\"coloraxis\":{\"colorbar\":{\"outlinewidth\":0,\"ticks\":\"\"}},\"colorscale\":{\"sequential\":[[0.0,\"#0d0887\"],[0.1111111111111111,\"#46039f\"],[0.2222222222222222,\"#7201a8\"],[0.3333333333333333,\"#9c179e\"],[0.4444444444444444,\"#bd3786\"],[0.5555555555555556,\"#d8576b\"],[0.6666666666666666,\"#ed7953\"],[0.7777777777777778,\"#fb9f3a\"],[0.8888888888888888,\"#fdca26\"],[1.0,\"#f0f921\"]],\"sequentialminus\":[[0.0,\"#0d0887\"],[0.1111111111111111,\"#46039f\"],[0.2222222222222222,\"#7201a8\"],[0.3333333333333333,\"#9c179e\"],[0.4444444444444444,\"#bd3786\"],[0.5555555555555556,\"#d8576b\"],[0.6666666666666666,\"#ed7953\"],[0.7777777777777778,\"#fb9f3a\"],[0.8888888888888888,\"#fdca26\"],[1.0,\"#f0f921\"]],\"diverging\":[[0,\"#8e0152\"],[0.1,\"#c51b7d\"],[0.2,\"#de77ae\"],[0.3,\"#f1b6da\"],[0.4,\"#fde0ef\"],[0.5,\"#f7f7f7\"],[0.6,\"#e6f5d0\"],[0.7,\"#b8e186\"],[0.8,\"#7fbc41\"],[0.9,\"#4d9221\"],[1,\"#276419\"]]},\"xaxis\":{\"gridcolor\":\"white\",\"linecolor\":\"white\",\"ticks\":\"\",\"title\":{\"standoff\":15},\"zerolinecolor\":\"white\",\"automargin\":true,\"zerolinewidth\":2},\"yaxis\":{\"gridcolor\":\"white\",\"linecolor\":\"white\",\"ticks\":\"\",\"title\":{\"standoff\":15},\"zerolinecolor\":\"white\",\"automargin\":true,\"zerolinewidth\":2},\"scene\":{\"xaxis\":{\"backgroundcolor\":\"#E5ECF6\",\"gridcolor\":\"white\",\"linecolor\":\"white\",\"showbackground\":true,\"ticks\":\"\",\"zerolinecolor\":\"white\",\"gridwidth\":2},\"yaxis\":{\"backgroundcolor\":\"#E5ECF6\",\"gridcolor\":\"white\",\"linecolor\":\"white\",\"showbackground\":true,\"ticks\":\"\",\"zerolinecolor\":\"white\",\"gridwidth\":2},\"zaxis\":{\"backgroundcolor\":\"#E5ECF6\",\"gridcolor\":\"white\",\"linecolor\":\"white\",\"showbackground\":true,\"ticks\":\"\",\"zerolinecolor\":\"white\",\"gridwidth\":2}},\"shapedefaults\":{\"line\":{\"color\":\"#2a3f5f\"}},\"annotationdefaults\":{\"arrowcolor\":\"#2a3f5f\",\"arrowhead\":0,\"arrowwidth\":1},\"geo\":{\"bgcolor\":\"white\",\"landcolor\":\"#E5ECF6\",\"subunitcolor\":\"white\",\"showland\":true,\"showlakes\":true,\"lakecolor\":\"white\"},\"title\":{\"x\":0.05},\"mapbox\":{\"style\":\"light\"}}},\"updatemenus\":[{\"buttons\":[{\"args\":[{\"visible\":[true,false,false,false,false,false]},{\"xaxis.title\":\"SCA_SCA90\",\"yaxis.title\":\"GCA_GCA90\"}],\"label\":\"SCA_SCA90 vs GCA_GCA90\",\"method\":\"update\"},{\"args\":[{\"visible\":[false,false,false,true,true,true]},{\"xaxis.title\":\"xG\",\"yaxis.title\":\"Expected G - xG\"}],\"label\":\"xG vs Expected G-xG\",\"method\":\"update\"}],\"direction\":\"down\",\"showactive\":true,\"x\":0.1,\"xanchor\":\"left\",\"y\":1.15,\"yanchor\":\"top\"},{\"buttons\":[{\"args\":[{\"visible\":[true,false,false,true,false,false]}],\"label\":\"Conf\\u00e9rence Est\",\"method\":\"update\"},{\"args\":[{\"visible\":[false,true,false,false,true,false]}],\"label\":\"Conf\\u00e9rence Ouest\",\"method\":\"update\"},{\"args\":[{\"visible\":[false,false,true,false,false,true]}],\"label\":\"Toutes les Conf\\u00e9rences\",\"method\":\"update\"}],\"direction\":\"down\",\"showactive\":true,\"x\":0.5,\"xanchor\":\"left\",\"y\":1.15,\"yanchor\":\"top\"}]},                        {\"responsive\": true}                    ).then(function(){\n",
       "                            \n",
       "var gd = document.getElementById('e8778c03-934d-4b01-97d2-86dead73e31f');\n",
       "var x = new MutationObserver(function (mutations, observer) {{\n",
       "        var display = window.getComputedStyle(gd).display;\n",
       "        if (!display || display === 'none') {{\n",
       "            console.log([gd, 'removed!']);\n",
       "            Plotly.purge(gd);\n",
       "            observer.disconnect();\n",
       "        }}\n",
       "}});\n",
       "\n",
       "// Listen for the removal of the full notebook cells\n",
       "var notebookContainer = gd.closest('#notebook-container');\n",
       "if (notebookContainer) {{\n",
       "    x.observe(notebookContainer, {childList: true});\n",
       "}}\n",
       "\n",
       "// Listen for the clearing of the current output cell\n",
       "var outputEl = gd.closest('.output');\n",
       "if (outputEl) {{\n",
       "    x.observe(outputEl, {childList: true});\n",
       "}}\n",
       "\n",
       "                        })                };                });            </script>        </div>"
      ]
     },
     "metadata": {},
     "output_type": "display_data"
    }
   ],
   "source": [
    "import pandas as pd\n",
    "import plotly.graph_objects as go\n",
    "from dash import Dash, dcc, html, Input, Output\n",
    "import dash_table\n",
    "\n",
    "# Charger les tables\n",
    "url = 'https://fbref.com/en/comps/22/Major-League-Soccer-Stats'\n",
    "tables = pd.read_html(url)\n",
    "\n",
    "# Tables de classement Est et Ouest\n",
    "table1 = tables[0][['Squad', 'W', 'D', 'L', 'GD', 'xG', 'xGD', 'Pts']]\n",
    "table3 = tables[2][['Squad', 'W', 'D', 'L', 'GD', 'xG', 'xGD', 'Pts']]\n",
    "\n",
    "# Extraire les données de la Conférence Est et Ouest\n",
    "table_est = table1.copy()\n",
    "table_ouest = table3.copy()\n",
    "\n",
    "# Ajouter une colonne 'Conference' pour différencier les conférences\n",
    "table_est['Conference'] = 'Est'\n",
    "table_ouest['Conference'] = 'Ouest'\n",
    "\n",
    "# Fusionner les deux tables pour pouvoir basculer facilement entre les conférences\n",
    "all_teams = pd.concat([table_est, table_ouest], ignore_index=True)\n",
    "\n",
    "# Nettoyage et filtrage des autres tables\n",
    "def clean_and_filter_table(table, columns_to_keep):\n",
    "    table.columns = ['_'.join(col).strip() for col in table.columns.values]\n",
    "    return table[columns_to_keep]\n",
    "\n",
    "table19_filtered = clean_and_filter_table(tables[18], ['Unnamed: 0_level_0_Squad', 'Standard_Gls', 'Expected_G-xG'])\n",
    "table19_filtered.rename(columns={'Unnamed: 0_level_0_Squad': 'Squad', 'Standard_Gls': 'Goals Scored'}, inplace=True)\n",
    "table25_filtered = clean_and_filter_table(tables[24], ['Unnamed: 0_level_0_Squad', 'SCA_SCA90', 'GCA_GCA90'])\n",
    "table25_filtered.rename(columns={'Unnamed: 0_level_0_Squad': 'Squad'}, inplace=True)\n",
    "\n",
    "# Fusionner les tables sur 'Squad'\n",
    "df_est = pd.merge(table_est, table19_filtered, on='Squad', how='left')\n",
    "df_est = pd.merge(df_est, table25_filtered, on='Squad', how='left')\n",
    "df_est['Conference'] = 'Est'\n",
    "\n",
    "df_ouest = pd.merge(table_ouest, table19_filtered, on='Squad', how='left')\n",
    "df_ouest = pd.merge(df_ouest, table25_filtered, on='Squad', how='left')\n",
    "df_ouest['Conference'] = 'Ouest'\n",
    "\n",
    "# Combiner les deux DataFrames\n",
    "df_total = pd.concat([df_est, df_ouest], ignore_index=True)\n",
    "\n",
    "# Calculer les classements pour chaque configuration\n",
    "df_total['Rank_All'] = df_total['Pts'].rank(method='min', ascending=False).astype(int)\n",
    "\n",
    "# Ajouter et calculer les colonnes Rank_Est et Rank_Ouest\n",
    "df_total['Rank_Est'] = df_total[df_total['Conference'] == 'Est']['Pts'].rank(method='min', ascending=False).astype('Int64')\n",
    "df_total['Rank_Ouest'] = df_total[df_total['Conference'] == 'Ouest']['Pts'].rank(method='min', ascending=False).astype('Int64')\n",
    "\n",
    "# Remplacer les valeurs manquantes par pd.NA pour éviter les erreurs avec Int64\n",
    "df_total['Rank_Est'] = df_total['Rank_Est'].fillna(pd.NA)\n",
    "df_total['Rank_Ouest'] = df_total['Rank_Ouest'].fillna(pd.NA)\n",
    "\n",
    "# Créer la figure\n",
    "fig = go.Figure()\n",
    "\n",
    "# Ajouter les nuages de points pour les deux ensembles de statistiques et chaque conférence\n",
    "# 1. SCA_SCA90 vs. GCA_GCA90 pour chaque conférence\n",
    "# Conférence Est\n",
    "df_est = df_total[df_total['Conference'] == 'Est']\n",
    "fig.add_trace(go.Scatter(\n",
    "    x=df_est['SCA_SCA90'], y=df_est['GCA_GCA90'],\n",
    "    mode='markers',\n",
    "    marker=dict(color='blue'),\n",
    "    name=\"Conférence Est\",\n",
    "    customdata=df_est[['Squad', 'Rank_Est', 'Goals Scored', 'GCA_GCA90', 'SCA_SCA90']],\n",
    "    hovertemplate=\"<b>%{customdata[0]}</b><br>Rank : %{customdata[1]}<br>Goals Scored : %{customdata[2]}<br>SCA90 : %{customdata[4]}<br>GCA90 : %{customdata[3]}<extra></extra>\",\n",
    "    visible=True  # Par défaut visible\n",
    "))\n",
    "\n",
    "# Conférence Ouest\n",
    "df_ouest = df_total[df_total['Conference'] == 'Ouest']\n",
    "fig.add_trace(go.Scatter(\n",
    "    x=df_ouest['SCA_SCA90'], y=df_ouest['GCA_GCA90'],\n",
    "    mode='markers',\n",
    "    marker=dict(color='red'),\n",
    "    name=\"Conférence Ouest\",\n",
    "    customdata=df_ouest[['Squad', 'Rank_Ouest', 'Goals Scored', 'GCA_GCA90', 'SCA_SCA90']],\n",
    "    hovertemplate=\"<b>%{customdata[0]}</b><br>Rank : %{customdata[1]}<br>Goals Scored : %{customdata[2]}<br>SCA90 : %{customdata[4]}<br>GCA90 : %{customdata[3]}<extra></extra>\",\n",
    "    visible=False\n",
    "))\n",
    "\n",
    "# Toutes les conférences\n",
    "fig.add_trace(go.Scatter(\n",
    "    x=df_total['SCA_SCA90'], y=df_total['GCA_GCA90'],\n",
    "    mode='markers',\n",
    "    marker=dict(color='purple'),\n",
    "    name=\"Toutes les Conférences\",\n",
    "    customdata=df_total[['Squad', 'Rank_All', 'Goals Scored', 'GCA_GCA90', 'SCA_SCA90']],\n",
    "    hovertemplate=\"<b>%{customdata[0]}</b><br>Rank : %{customdata[1]}<br>Goals Scored : %{customdata[2]}<br>SCA90 : %{customdata[4]}<br>GCA90 : %{customdata[3]}<extra></extra>\",\n",
    "    visible=False\n",
    "))\n",
    "\n",
    "# 2. xG vs. Expected_G-xG pour chaque conférence\n",
    "# Conférence Est\n",
    "fig.add_trace(go.Scatter(\n",
    "    x=df_est['xG'], y=df_est['Expected_G-xG'],\n",
    "    mode='markers',\n",
    "    marker=dict(color='blue'),\n",
    "    name=\"Conférence Est (xG)\",\n",
    "    customdata=df_est[['Squad', 'Rank_Est', 'Goals Scored', 'xG', 'Expected_G-xG']],\n",
    "    hovertemplate=\"<b>%{customdata[0]}</b><br>Rank : %{customdata[1]}<br>Goals Scored : %{customdata[2]}<br>xG : %{customdata[4]}<br>Expected_G-xG : %{customdata[3]}<extra></extra>\",\n",
    "    visible=False\n",
    "))\n",
    "\n",
    "# Conférence Ouest\n",
    "fig.add_trace(go.Scatter(\n",
    "    x=df_ouest['xG'], y=df_ouest['Expected_G-xG'],\n",
    "    mode='markers',\n",
    "    marker=dict(color='red'),\n",
    "    name=\"Conférence Ouest (xG)\",\n",
    "    customdata=df_ouest[['Squad', 'Rank_Ouest', 'Goals Scored', 'xG', 'Expected_G-xG']],\n",
    "    hovertemplate=\"<b>%{customdata[0]}</b><br>Rank : %{customdata[1]}<br>Goals Scored : %{customdata[2]}<br>xG : %{customdata[4]}<br>Expected_G-xG : %{customdata[3]}<extra></extra>\",\n",
    "    visible=False\n",
    "))\n",
    "\n",
    "# Toutes les conférences\n",
    "fig.add_trace(go.Scatter(\n",
    "    x=df_total['xG'], y=df_total['Expected_G-xG'],\n",
    "    mode='markers',\n",
    "    marker=dict(color='purple'),\n",
    "    name=\"Toutes les Conférences (xG)\",\n",
    "    customdata=df_total[['Squad', 'Rank_All', 'Goals Scored', 'xG', 'Expected_G-xG']],\n",
    "    hovertemplate=\"<b>%{customdata[0]}</b><br>Rank : %{customdata[1]}<br>Goals Scored : %{customdata[2]}<br>xG : %{customdata[4]}<br>Expected_G-xG : %{customdata[3]}<extra></extra>\",\n",
    "    visible=False\n",
    "))\n",
    "\n",
    "# Ajouter des boutons pour changer les statistiques affichées et les conférences\n",
    "fig.update_layout(\n",
    "    updatemenus=[\n",
    "        # Bouton pour sélectionner les statistiques\n",
    "        dict(\n",
    "            buttons=list([\n",
    "                dict(label=\"SCA_SCA90 vs GCA_GCA90\",\n",
    "                     method=\"update\",\n",
    "                     args=[{\"visible\": [True, False, False, False, False, False]},\n",
    "                           {\"xaxis.title\": \"SCA_SCA90\", \"yaxis.title\": \"GCA_GCA90\"}]),\n",
    "                dict(label=\"xG vs Expected G-xG\",\n",
    "                     method=\"update\",\n",
    "                     args=[{\"visible\": [False, False, False, True, True, True]},\n",
    "                           {\"xaxis.title\": \"xG\", \"yaxis.title\": \"Expected G - xG\"}])\n",
    "            ]),\n",
    "            direction=\"down\",\n",
    "            showactive=True,\n",
    "            x=0.1,\n",
    "            xanchor=\"left\",\n",
    "            y=1.15,\n",
    "            yanchor=\"top\"\n",
    "        ),\n",
    "        # Bouton pour sélectionner la conférence\n",
    "        dict(\n",
    "            buttons=list([\n",
    "                dict(label=\"Conférence Est\",\n",
    "                     method=\"update\",\n",
    "                     args=[{\"visible\": [True, False, False, True, False, False]}]),\n",
    "                dict(label=\"Conférence Ouest\",\n",
    "                     method=\"update\",\n",
    "                     args=[{\"visible\": [False, True, False, False, True, False]}]),\n",
    "                dict(label=\"Toutes les Conférences\",\n",
    "                     method=\"update\",\n",
    "                     args=[{\"visible\": [False, False, True, False, False, True]}])\n",
    "            ]),\n",
    "            direction=\"down\",\n",
    "            showactive=True,\n",
    "            x=0.50,\n",
    "            xanchor=\"left\",\n",
    "            y=1.15,\n",
    "            yanchor=\"top\"\n",
    "        ),\n",
    "    ]\n",
    ")\n",
    "\n",
    "# Création de l'application Dash\n",
    "app = Dash(__name__)\n",
    "\n",
    "# Layout de l'application\n",
    "app.layout = html.Div([\n",
    "    html.H1(\"Classement MLS\"),\n",
    "    # Bouton pour sélectionner la conférence\n",
    "    html.Div([\n",
    "        dcc.RadioItems(\n",
    "            id='conference-select',\n",
    "            options=[{'label': 'Est', 'value': 'Est'},\n",
    "                     {'label': 'Ouest', 'value': 'Ouest'}],\n",
    "            value='Est',\n",
    "            inline=True\n",
    "        )\n",
    "    ]),\n",
    "    # Menu déroulant pour trier les colonnes\n",
    "    html.Div([\n",
    "        dcc.Dropdown(\n",
    "            id='sort-by',\n",
    "            options=[{'label': col, 'value': col} for col in ['W', 'D', 'L', 'GD', 'xG', 'xGD', 'Pts']],\n",
    "            value='Pts',  # Valeur de tri par défaut\n",
    "            clearable=False\n",
    "        )\n",
    "    ], style={'width': '200px'}),\n",
    "    # Table interactive\n",
    "    dash_table.DataTable(\n",
    "        id='ranking-table',\n",
    "        columns=[{\"name\": col, \"id\": col} for col in ['Squad', 'W', 'D', 'L', 'GD', 'xG', 'xGD', 'Pts']],\n",
    "        sort_action='native',\n",
    "        style_cell={'textAlign': 'center'},\n",
    "        style_header={'fontWeight': 'bold'},\n",
    "        style_data_conditional=[\n",
    "            {\n",
    "                'if': {'column_id': 'Pts'},\n",
    "                'backgroundColor': 'lightblue',\n",
    "                'fontWeight': 'bold'\n",
    "            }\n",
    "        ]\n",
    "    )\n",
    "])\n",
    "\n",
    "# Callback pour mettre à jour le tableau en fonction de la conférence et du tri\n",
    "@app.callback(\n",
    "    Output('ranking-table', 'data'),\n",
    "    Input('conference-select', 'value'),\n",
    "    Input('sort-by', 'value')\n",
    ")\n",
    "def update_table(selected_conference, sort_by):\n",
    "    # Filtrer en fonction de la conférence choisie\n",
    "    filtered_data = all_teams[all_teams['Conference'] == selected_conference]\n",
    "    # Trier les données en fonction de la statistique choisie\n",
    "    filtered_data = filtered_data.sort_values(by=sort_by, ascending=False)\n",
    "    return filtered_data.to_dict('records')\n",
    "\n",
    "if __name__ == '__main__':\n",
    "    app.run_server(debug=True)\n",
    "# Afficher le graphique\n",
    "fig.show()\n"
   ]
  },
  {
   "cell_type": "code",
   "execution_count": null,
   "id": "69ff7ad1",
   "metadata": {},
   "outputs": [],
   "source": []
  },
  {
   "cell_type": "code",
   "execution_count": null,
   "id": "98b5e103",
   "metadata": {},
   "outputs": [],
   "source": []
  }
 ],
 "metadata": {
  "kernelspec": {
   "display_name": "Python 3 (ipykernel)",
   "language": "python",
   "name": "python3"
  },
  "language_info": {
   "codemirror_mode": {
    "name": "ipython",
    "version": 3
   },
   "file_extension": ".py",
   "mimetype": "text/x-python",
   "name": "python",
   "nbconvert_exporter": "python",
   "pygments_lexer": "ipython3",
   "version": "3.11.7"
  }
 },
 "nbformat": 4,
 "nbformat_minor": 5
}
